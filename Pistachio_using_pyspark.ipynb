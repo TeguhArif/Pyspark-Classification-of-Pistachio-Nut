{
  "cells": [
    {
      "cell_type": "code",
      "execution_count": null,
      "metadata": {
        "colab": {
          "base_uri": "https://localhost:8080/"
        },
        "id": "CIj4XBBCwVu1",
        "outputId": "eb89ed99-d910-42e5-bc9a-62c886561f9c"
      },
      "outputs": [
        {
          "name": "stdout",
          "output_type": "stream",
          "text": [
            "Looking in indexes: https://pypi.org/simple, https://us-python.pkg.dev/colab-wheels/public/simple/\n",
            "Collecting pyspark\n",
            "  Downloading pyspark-3.3.1.tar.gz (281.4 MB)\n",
            "\u001b[K     |████████████████████████████████| 281.4 MB 35 kB/s \n",
            "\u001b[?25hCollecting py4j==0.10.9.5\n",
            "  Downloading py4j-0.10.9.5-py2.py3-none-any.whl (199 kB)\n",
            "\u001b[K     |████████████████████████████████| 199 kB 37.2 MB/s \n",
            "\u001b[?25hBuilding wheels for collected packages: pyspark\n",
            "  Building wheel for pyspark (setup.py) ... \u001b[?25l\u001b[?25hdone\n",
            "  Created wheel for pyspark: filename=pyspark-3.3.1-py2.py3-none-any.whl size=281845512 sha256=a84eef82cca00bb4a27e98af131b95b7090c8fd7edb37595447308dbb6f173c1\n",
            "  Stored in directory: /root/.cache/pip/wheels/43/dc/11/ec201cd671da62fa9c5cc77078235e40722170ceba231d7598\n",
            "Successfully built pyspark\n",
            "Installing collected packages: py4j, pyspark\n",
            "Successfully installed py4j-0.10.9.5 pyspark-3.3.1\n"
          ]
        }
      ],
      "source": [
        "pip install pyspark"
      ]
    },
    {
      "cell_type": "code",
      "execution_count": null,
      "metadata": {
        "id": "roxxrMOJwdO5"
      },
      "outputs": [],
      "source": [
        "from pyspark.sql import SparkSession"
      ]
    },
    {
      "cell_type": "code",
      "execution_count": null,
      "metadata": {
        "id": "DEqU3YzSw46x"
      },
      "outputs": [],
      "source": [
        "spark = SparkSession \\\n",
        "    .builder \\\n",
        "    .appName('Course') \\\n",
        "    .getOrCreate()"
      ]
    },
    {
      "cell_type": "code",
      "execution_count": null,
      "metadata": {
        "id": "UX0urLmidyIR"
      },
      "outputs": [],
      "source": [
        "!curl https://gitea.riksameidy.com/riksameidy/pistachio-image-dataset/raw/branch/master/Pistachio_28_Features_Dataset/Pistachio_28_Features_Dataset.xlsx > data.xlsx"
      ]
    },
    {
      "cell_type": "code",
      "execution_count": null,
      "metadata": {
        "colab": {
          "base_uri": "https://localhost:8080/"
        },
        "id": "Z0kek1lMwmuo",
        "outputId": "8d1b1b3b-865b-47d0-f6d1-6ace332d7dd7"
      },
      "outputs": [
        {
          "name": "stdout",
          "output_type": "stream",
          "text": [
            "  % Total    % Received % Xferd  Average Speed   Time    Time     Time  Current\n",
            "                                 Dload  Upload   Total   Spent    Left  Speed\n",
            "100  556k  100  556k    0     0   326k      0  0:00:01  0:00:01 --:--:--  325k\n"
          ]
        }
      ],
      "source": [
        "!curl https://gitea.riksameidy.com/riksameidy/pistachio-image-dataset/raw/branch/master/Pistachio_28_Features_Dataset/Pistachio_28_Features_Dataset.xlsx > data.xlsx"
      ]
    },
    {
      "cell_type": "markdown",
      "metadata": {
        "id": "slnti_Y_M-_7"
      },
      "source": [
        "# 1"
      ]
    },
    {
      "cell_type": "code",
      "execution_count": null,
      "metadata": {
        "id": "vgSq48xfw28H"
      },
      "outputs": [],
      "source": [
        "df = spark.read.csv('/content/drive/MyDrive/Colab Notebooks/Pistachio_28_Features_Dataset.csv', sep = ';', header = True, inferSchema=True)"
      ]
    },
    {
      "cell_type": "code",
      "execution_count": null,
      "metadata": {
        "colab": {
          "base_uri": "https://localhost:8080/"
        },
        "id": "smuN-P-JyS0t",
        "outputId": "16574a7d-f3cf-482b-e27c-5cecea74917d"
      },
      "outputs": [
        {
          "name": "stdout",
          "output_type": "stream",
          "text": [
            "+-----+---------+----------+----------+------------+--------+--------+-----------+------+------------+---------+-----------+-------------+-------------+-------------+-------------+--------+--------+--------+---------+---------+---------+-------+-------+-------+-----------+-----------+-----------+-----------------+\n",
            "| Area|Perimeter|Major_Axis|Minor_Axis|Eccentricity| Eqdiasq|Solidity|Convex_Area|Extent|Aspect_Ratio|Roundness|Compactness|Shapefactor_1|Shapefactor_2|Shapefactor_3|Shapefactor_4| Mean_RR| Mean_RG| Mean_RB|StdDev_RR|StdDev_RG|StdDev_RB|Skew_RR|Skew_RG|Skew_RB|Kurtosis_RR|Kurtosis_RG|Kurtosis_RB|            Class|\n",
            "+-----+---------+----------+----------+------------+--------+--------+-----------+------+------------+---------+-----------+-------------+-------------+-------------+-------------+--------+--------+--------+---------+---------+---------+-------+-------+-------+-----------+-----------+-----------+-----------------+\n",
            "|63391| 1568.405|  390.3396|  236.7461|      0.7951|284.0984|  0.8665|      73160|0.6394|      1.6488|   0.3238|     0.7278|       0.0062|       0.0037|       0.5297|       0.8734|195.9932|180.2673|165.3167|  17.7206|  19.6024|  21.1342| 0.4581| 0.6635| 0.7591|     2.9692|     3.0576|     2.9542|Kirmizi_Pistachio|\n",
            "|68358| 1942.187|  410.8594|  234.7525|      0.8207|295.0188|  0.8765|      77991|0.6772|      1.7502|   0.2277|     0.7181|        0.006|       0.0034|       0.5156|       0.9024|222.5941| 208.621|187.3744|  26.7061|  27.2112|  25.1035|-0.3847|-0.2713|-0.2927|     1.9807|     2.1006|     2.2152|Kirmizi_Pistachio|\n",
            "|73589| 1246.538|   452.363|  220.5547|      0.8731|306.0987|  0.9172|      80234|0.7127|       2.051|   0.5951|     0.6767|       0.0061|        0.003|       0.4579|       0.9391|213.3581|202.9122|187.7118|  19.0129|  20.0703|  20.7006|-0.6014|  -0.45| 0.2998|      3.542|     3.6856|     4.1012|Kirmizi_Pistachio|\n",
            "|71106| 1445.261|  429.5291|  216.0765|      0.8643|300.8903|  0.9589|      74153|0.7028|      1.9879|   0.4278|     0.7005|        0.006|        0.003|       0.4907|       0.9755| 211.863|205.4264|187.9537|  18.1773|  18.7152|  29.7883|-0.6943|-0.6278|-0.7798|     2.8776|     2.8748|     2.8953|Kirmizi_Pistachio|\n",
            "|80087| 1251.524|  469.3783|  220.9344|      0.8823|319.3273|  0.9657|      82929|0.7459|      2.1245|   0.6425|     0.6803|       0.0059|       0.0028|       0.4628|       0.9833|229.5648|217.5896|194.4906|  23.4298|  24.0878|  23.1157|-0.9287|-0.8134| -0.497|     2.9915|     2.8813|     2.7362|Kirmizi_Pistachio|\n",
            "+-----+---------+----------+----------+------------+--------+--------+-----------+------+------------+---------+-----------+-------------+-------------+-------------+-------------+--------+--------+--------+---------+---------+---------+-------+-------+-------+-----------+-----------+-----------+-----------------+\n",
            "only showing top 5 rows\n",
            "\n"
          ]
        }
      ],
      "source": [
        "df.show(5)"
      ]
    },
    {
      "cell_type": "markdown",
      "metadata": {
        "id": "hi85BlDmyiOK"
      },
      "source": [
        "## Analisis Deskriptif"
      ]
    },
    {
      "cell_type": "code",
      "execution_count": null,
      "metadata": {
        "colab": {
          "base_uri": "https://localhost:8080/"
        },
        "id": "MYd9GnCZAW1M",
        "outputId": "4bb55fb3-ce1d-4b9e-f17a-151085f7cba3"
      },
      "outputs": [
        {
          "name": "stdout",
          "output_type": "stream",
          "text": [
            "+-----------------+\n",
            "|            Class|\n",
            "+-----------------+\n",
            "|  Siirt_Pistachio|\n",
            "|Kirmizi_Pistachio|\n",
            "+-----------------+\n",
            "\n"
          ]
        }
      ],
      "source": [
        "df.dropDuplicates(['Class']).select('Class').show()"
      ]
    },
    {
      "cell_type": "code",
      "execution_count": null,
      "metadata": {
        "colab": {
          "base_uri": "https://localhost:8080/"
        },
        "id": "ZCRgNGoyycOn",
        "outputId": "9a998921-0116-4f7d-b886-5c2a71a13e4d"
      },
      "outputs": [
        {
          "name": "stdout",
          "output_type": "stream",
          "text": [
            "root\n",
            " |-- Area: integer (nullable = true)\n",
            " |-- Perimeter: double (nullable = true)\n",
            " |-- Major_Axis: double (nullable = true)\n",
            " |-- Minor_Axis: double (nullable = true)\n",
            " |-- Eccentricity: double (nullable = true)\n",
            " |-- Eqdiasq: double (nullable = true)\n",
            " |-- Solidity: double (nullable = true)\n",
            " |-- Convex_Area: integer (nullable = true)\n",
            " |-- Extent: double (nullable = true)\n",
            " |-- Aspect_Ratio: double (nullable = true)\n",
            " |-- Roundness: double (nullable = true)\n",
            " |-- Compactness: double (nullable = true)\n",
            " |-- Shapefactor_1: double (nullable = true)\n",
            " |-- Shapefactor_2: double (nullable = true)\n",
            " |-- Shapefactor_3: double (nullable = true)\n",
            " |-- Shapefactor_4: double (nullable = true)\n",
            " |-- Mean_RR: double (nullable = true)\n",
            " |-- Mean_RG: double (nullable = true)\n",
            " |-- Mean_RB: double (nullable = true)\n",
            " |-- StdDev_RR: double (nullable = true)\n",
            " |-- StdDev_RG: double (nullable = true)\n",
            " |-- StdDev_RB: double (nullable = true)\n",
            " |-- Skew_RR: double (nullable = true)\n",
            " |-- Skew_RG: double (nullable = true)\n",
            " |-- Skew_RB: double (nullable = true)\n",
            " |-- Kurtosis_RR: double (nullable = true)\n",
            " |-- Kurtosis_RG: double (nullable = true)\n",
            " |-- Kurtosis_RB: double (nullable = true)\n",
            " |-- Class: string (nullable = true)\n",
            "\n"
          ]
        }
      ],
      "source": [
        "df.printSchema()"
      ]
    },
    {
      "cell_type": "code",
      "execution_count": null,
      "metadata": {
        "colab": {
          "base_uri": "https://localhost:8080/"
        },
        "id": "E8krLWw0ypn2",
        "outputId": "8d02acc1-6496-4c86-e028-f78fa85087f3"
      },
      "outputs": [
        {
          "name": "stdout",
          "output_type": "stream",
          "text": [
            "+-------+------------------+------------------+-----------------+------------------+-------------------+------------------+--------------------+-----------------+-------------------+-------------------+-------------------+-------------------+--------------------+--------------------+-------------------+-------------------+------------------+------------------+------------------+------------------+------------------+------------------+-------------------+-------------------+--------------------+------------------+------------------+------------------+-----------------+\n",
            "|summary|              Area|         Perimeter|       Major_Axis|        Minor_Axis|       Eccentricity|           Eqdiasq|            Solidity|      Convex_Area|             Extent|       Aspect_Ratio|          Roundness|        Compactness|       Shapefactor_1|       Shapefactor_2|      Shapefactor_3|      Shapefactor_4|           Mean_RR|           Mean_RG|           Mean_RB|         StdDev_RR|         StdDev_RG|         StdDev_RB|            Skew_RR|            Skew_RG|             Skew_RB|       Kurtosis_RR|       Kurtosis_RG|       Kurtosis_RB|            Class|\n",
            "+-------+------------------+------------------+-----------------+------------------+-------------------+------------------+--------------------+-----------------+-------------------+-------------------+-------------------+-------------------+--------------------+--------------------+-------------------+-------------------+------------------+------------------+------------------+------------------+------------------+------------------+-------------------+-------------------+--------------------+------------------+------------------+------------------+-----------------+\n",
            "|  count|              2148|              2148|             2148|              2148|               2148|              2148|                2148|             2148|               2148|               2148|               2148|               2148|                2148|                2148|               2148|               2148|              2148|              2148|              2148|              2148|              2148|              2148|               2148|               2148|                2148|              2148|              2148|              2148|             2148|\n",
            "|   mean|  79950.6554934823|1425.9717511173162|446.2489681564242|238.31184231843596| 0.8402188547486052|317.91917318435696|  0.9400927374301685|85015.83985102421| 0.7160668528864046| 1.8981542830540026| 0.5691718808193659| 0.7130766759776539|0.005701256983240209|0.003017178770949716| 0.5104614525139662| 0.9552386871508369|218.06750544692724|207.97300786778405|191.99531135940424|21.380083705772787|22.591454469273746|22.427056378026098|-0.7352428305400374|-0.6155799813780264|-0.36714208566107953|3.0540004189944145|2.9030151769087578| 2.940572253258846|             null|\n",
            "| stddev|13121.737798900562|375.56550345439854|32.44530350817879|30.310695396739977|0.04875895726475007| 26.90860002379478|0.050452184849420295|13154.91932656928|0.05253229423461945|0.24010025581296396|0.21275974294227132|0.04454714349125839| 8.17253003312335E-4|3.397690271053821E-4|0.06394198264088029|0.05184048073198597|10.793178140797323|12.073221408422947|13.030505169469127| 3.127812511043937|3.6222224787002317|3.9263254846844564|   0.38458400024728| 0.3892190853182379|  0.4269643368857248|0.7339926283912261|0.6513826122118693|0.7501710146111276|             null|\n",
            "|    min|             29808|           858.363|         320.3445|          133.5096|             0.5049|          194.8146|               0.588|            37935|             0.4272|             1.1585|             0.0628|              0.476|               0.004|              0.0024|             0.2266|             0.6204|          167.1913|           162.623|          146.7876|           10.6111|           11.9854|           11.1971|            -1.9316|            -1.6582|             -2.3486|            1.6624|            1.6655|            1.5225|Kirmizi_Pistachio|\n",
            "|    25%|             71912|          1170.823|         426.4612|          217.8753|             0.8175|          302.5908|              0.9194|            76410|              0.687|             1.7363|             0.3708|             0.6814|              0.0052|              0.0028|             0.4644|              0.944|          211.5884|          200.3948|           182.915|           19.2327|           20.0279|            19.718|            -0.9918|            -0.8768|             -0.6461|            2.5088|            2.4371|            2.4489|             null|\n",
            "|    50%|             79882|          1262.776|         448.5503|          236.3956|             0.8496|          318.9184|              0.9541|            85061|             0.7265|             1.8961|             0.6433|             0.7107|              0.0056|               0.003|             0.5051|             0.9731|          219.5277|          208.8811|          192.0324|           21.4243|           22.5231|           22.2754|            -0.7568|            -0.6531|             -0.4249|            2.9413|            2.8069|            2.7827|             null|\n",
            "|    75%|             89027|          1607.892|         468.5075|          257.7403|             0.8752|          336.6789|              0.9769|            93892|             0.7536|              2.067|             0.7441|             0.7416|              0.0061|              0.0032|               0.55|             0.9873|           225.936|          216.4865|           201.097|           23.6954|           25.2388|           25.1381|            -0.5025|            -0.4054|             -0.1587|            3.4464|            3.2473|            3.2245|             null|\n",
            "|    max|            124008|         2755.0491|         541.9661|          383.0461|              0.946|          397.3561|              0.9951|           132478|             0.8204|             3.0858|             0.9336|             0.8779|              0.0131|              0.0053|             0.7706|              0.999|          241.2752|          240.5065|          235.0007|           30.8383|           33.6146|           42.7566|             1.8654|             2.2576|              1.8521|            8.8906|           10.4539|           11.5339|  Siirt_Pistachio|\n",
            "+-------+------------------+------------------+-----------------+------------------+-------------------+------------------+--------------------+-----------------+-------------------+-------------------+-------------------+-------------------+--------------------+--------------------+-------------------+-------------------+------------------+------------------+------------------+------------------+------------------+------------------+-------------------+-------------------+--------------------+------------------+------------------+------------------+-----------------+\n",
            "\n"
          ]
        }
      ],
      "source": [
        "df.summary().show()"
      ]
    },
    {
      "cell_type": "markdown",
      "metadata": {
        "id": "hjJ4Hn-Izf5M"
      },
      "source": [
        "# 2. Cleaning Data"
      ]
    },
    {
      "cell_type": "markdown",
      "metadata": {
        "id": "_hD61G1Wzhyx"
      },
      "source": [
        "## Missing Data"
      ]
    },
    {
      "cell_type": "code",
      "execution_count": null,
      "metadata": {
        "colab": {
          "base_uri": "https://localhost:8080/"
        },
        "id": "ItNieZIczhUN",
        "outputId": "1c584603-e9e8-4784-ee97-cac0135280dc"
      },
      "outputs": [
        {
          "data": {
            "text/plain": [
              "[0,\n",
              " 0,\n",
              " 0,\n",
              " 0,\n",
              " 0,\n",
              " 0,\n",
              " 0,\n",
              " 0,\n",
              " 0,\n",
              " 0,\n",
              " 0,\n",
              " 0,\n",
              " 0,\n",
              " 0,\n",
              " 0,\n",
              " 0,\n",
              " 0,\n",
              " 0,\n",
              " 0,\n",
              " 0,\n",
              " 0,\n",
              " 0,\n",
              " 0,\n",
              " 0,\n",
              " 0,\n",
              " 0,\n",
              " 0,\n",
              " 0,\n",
              " 0]"
            ]
          },
          "execution_count": 26,
          "metadata": {},
          "output_type": "execute_result"
        }
      ],
      "source": [
        "p = [ df.filter( df[column].isNull() ).count() for column in df.columns ]\n",
        "p"
      ]
    },
    {
      "cell_type": "markdown",
      "metadata": {
        "id": "lakFLN0rz9DQ"
      },
      "source": [
        "Tidak Ada yang missing value"
      ]
    },
    {
      "cell_type": "markdown",
      "metadata": {
        "id": "M6D2qbA40BOH"
      },
      "source": [
        "### Data Type Mismatch"
      ]
    },
    {
      "cell_type": "code",
      "execution_count": null,
      "metadata": {
        "colab": {
          "base_uri": "https://localhost:8080/"
        },
        "id": "rq4IGX5mzs2A",
        "outputId": "9fae92d2-d789-415a-d8ff-718fac3af9ac"
      },
      "outputs": [
        {
          "name": "stdout",
          "output_type": "stream",
          "text": [
            "root\n",
            " |-- Area: float (nullable = true)\n",
            " |-- Perimeter: double (nullable = true)\n",
            " |-- Major_Axis: double (nullable = true)\n",
            " |-- Minor_Axis: double (nullable = true)\n",
            " |-- Eccentricity: double (nullable = true)\n",
            " |-- Eqdiasq: double (nullable = true)\n",
            " |-- Solidity: double (nullable = true)\n",
            " |-- Convex_Area: integer (nullable = true)\n",
            " |-- Extent: double (nullable = true)\n",
            " |-- Aspect_Ratio: double (nullable = true)\n",
            " |-- Roundness: double (nullable = true)\n",
            " |-- Compactness: double (nullable = true)\n",
            " |-- Shapefactor_1: double (nullable = true)\n",
            " |-- Shapefactor_2: double (nullable = true)\n",
            " |-- Shapefactor_3: double (nullable = true)\n",
            " |-- Shapefactor_4: double (nullable = true)\n",
            " |-- Mean_RR: double (nullable = true)\n",
            " |-- Mean_RG: double (nullable = true)\n",
            " |-- Mean_RB: double (nullable = true)\n",
            " |-- StdDev_RR: double (nullable = true)\n",
            " |-- StdDev_RG: double (nullable = true)\n",
            " |-- StdDev_RB: double (nullable = true)\n",
            " |-- Skew_RR: double (nullable = true)\n",
            " |-- Skew_RG: double (nullable = true)\n",
            " |-- Skew_RB: double (nullable = true)\n",
            " |-- Kurtosis_RR: double (nullable = true)\n",
            " |-- Kurtosis_RG: double (nullable = true)\n",
            " |-- Kurtosis_RB: double (nullable = true)\n",
            " |-- Class: string (nullable = true)\n",
            "\n",
            "+-------+---------+----------+----------+------------+--------+--------+-----------+------+------------+---------+-----------+-------------+-------------+-------------+-------------+--------+--------+--------+---------+---------+---------+-------+-------+-------+-----------+-----------+-----------+-----------------+\n",
            "|   Area|Perimeter|Major_Axis|Minor_Axis|Eccentricity| Eqdiasq|Solidity|Convex_Area|Extent|Aspect_Ratio|Roundness|Compactness|Shapefactor_1|Shapefactor_2|Shapefactor_3|Shapefactor_4| Mean_RR| Mean_RG| Mean_RB|StdDev_RR|StdDev_RG|StdDev_RB|Skew_RR|Skew_RG|Skew_RB|Kurtosis_RR|Kurtosis_RG|Kurtosis_RB|            Class|\n",
            "+-------+---------+----------+----------+------------+--------+--------+-----------+------+------------+---------+-----------+-------------+-------------+-------------+-------------+--------+--------+--------+---------+---------+---------+-------+-------+-------+-----------+-----------+-----------+-----------------+\n",
            "|63391.0| 1568.405|  390.3396|  236.7461|      0.7951|284.0984|  0.8665|      73160|0.6394|      1.6488|   0.3238|     0.7278|       0.0062|       0.0037|       0.5297|       0.8734|195.9932|180.2673|165.3167|  17.7206|  19.6024|  21.1342| 0.4581| 0.6635| 0.7591|     2.9692|     3.0576|     2.9542|Kirmizi_Pistachio|\n",
            "|68358.0| 1942.187|  410.8594|  234.7525|      0.8207|295.0188|  0.8765|      77991|0.6772|      1.7502|   0.2277|     0.7181|        0.006|       0.0034|       0.5156|       0.9024|222.5941| 208.621|187.3744|  26.7061|  27.2112|  25.1035|-0.3847|-0.2713|-0.2927|     1.9807|     2.1006|     2.2152|Kirmizi_Pistachio|\n",
            "|73589.0| 1246.538|   452.363|  220.5547|      0.8731|306.0987|  0.9172|      80234|0.7127|       2.051|   0.5951|     0.6767|       0.0061|        0.003|       0.4579|       0.9391|213.3581|202.9122|187.7118|  19.0129|  20.0703|  20.7006|-0.6014|  -0.45| 0.2998|      3.542|     3.6856|     4.1012|Kirmizi_Pistachio|\n",
            "|71106.0| 1445.261|  429.5291|  216.0765|      0.8643|300.8903|  0.9589|      74153|0.7028|      1.9879|   0.4278|     0.7005|        0.006|        0.003|       0.4907|       0.9755| 211.863|205.4264|187.9537|  18.1773|  18.7152|  29.7883|-0.6943|-0.6278|-0.7798|     2.8776|     2.8748|     2.8953|Kirmizi_Pistachio|\n",
            "|80087.0| 1251.524|  469.3783|  220.9344|      0.8823|319.3273|  0.9657|      82929|0.7459|      2.1245|   0.6425|     0.6803|       0.0059|       0.0028|       0.4628|       0.9833|229.5648|217.5896|194.4906|  23.4298|  24.0878|  23.1157|-0.9287|-0.8134| -0.497|     2.9915|     2.8813|     2.7362|Kirmizi_Pistachio|\n",
            "+-------+---------+----------+----------+------------+--------+--------+-----------+------+------------+---------+-----------+-------------+-------------+-------------+-------------+--------+--------+--------+---------+---------+---------+-------+-------+-------+-----------+-----------+-----------+-----------------+\n",
            "only showing top 5 rows\n",
            "\n"
          ]
        }
      ],
      "source": [
        "df.printSchema()\n",
        "df.show(5)"
      ]
    },
    {
      "cell_type": "code",
      "execution_count": null,
      "metadata": {
        "id": "UagiUsOM0jV_"
      },
      "outputs": [],
      "source": [
        "from pyspark.sql.types import FloatType"
      ]
    },
    {
      "cell_type": "code",
      "execution_count": null,
      "metadata": {
        "id": "mBWli2Md0Jni"
      },
      "outputs": [],
      "source": [
        "def change_column_type(df,colname,target_type):\n",
        "  return df.withColumn( colname, df[colname].cast(target_type) )\n",
        "\n",
        "def change_column_types(df,columns,newTypes):\n",
        "  for i,c in enumerate(columns):\n",
        "    df = change_column_type(df,columns[i],newTypes[i])\n",
        "  return df"
      ]
    },
    {
      "cell_type": "code",
      "execution_count": null,
      "metadata": {
        "id": "rOp9AINS0qES"
      },
      "outputs": [],
      "source": [
        "col = df.columns[:-1]\n",
        "newTypes = [FloatType() for c in col]"
      ]
    },
    {
      "cell_type": "code",
      "execution_count": null,
      "metadata": {
        "id": "hHdySdJm1RyW"
      },
      "outputs": [],
      "source": [
        "df = change_column_types(df,col,newTypes)"
      ]
    },
    {
      "cell_type": "code",
      "execution_count": null,
      "metadata": {
        "colab": {
          "base_uri": "https://localhost:8080/"
        },
        "id": "weBGDNZy2MwF",
        "outputId": "b25e12aa-8bb5-45e4-bfda-ce8912b5cb05"
      },
      "outputs": [
        {
          "name": "stdout",
          "output_type": "stream",
          "text": [
            "root\n",
            " |-- Area: float (nullable = true)\n",
            " |-- Perimeter: float (nullable = true)\n",
            " |-- Major_Axis: float (nullable = true)\n",
            " |-- Minor_Axis: float (nullable = true)\n",
            " |-- Eccentricity: float (nullable = true)\n",
            " |-- Eqdiasq: float (nullable = true)\n",
            " |-- Solidity: float (nullable = true)\n",
            " |-- Convex_Area: float (nullable = true)\n",
            " |-- Extent: float (nullable = true)\n",
            " |-- Aspect_Ratio: float (nullable = true)\n",
            " |-- Roundness: float (nullable = true)\n",
            " |-- Compactness: float (nullable = true)\n",
            " |-- Shapefactor_1: float (nullable = true)\n",
            " |-- Shapefactor_2: float (nullable = true)\n",
            " |-- Shapefactor_3: float (nullable = true)\n",
            " |-- Shapefactor_4: float (nullable = true)\n",
            " |-- Mean_RR: float (nullable = true)\n",
            " |-- Mean_RG: float (nullable = true)\n",
            " |-- Mean_RB: float (nullable = true)\n",
            " |-- StdDev_RR: float (nullable = true)\n",
            " |-- StdDev_RG: float (nullable = true)\n",
            " |-- StdDev_RB: float (nullable = true)\n",
            " |-- Skew_RR: float (nullable = true)\n",
            " |-- Skew_RG: float (nullable = true)\n",
            " |-- Skew_RB: float (nullable = true)\n",
            " |-- Kurtosis_RR: float (nullable = true)\n",
            " |-- Kurtosis_RG: float (nullable = true)\n",
            " |-- Kurtosis_RB: float (nullable = true)\n",
            " |-- Class: string (nullable = true)\n",
            "\n"
          ]
        }
      ],
      "source": [
        "df.printSchema()"
      ]
    },
    {
      "cell_type": "markdown",
      "metadata": {
        "id": "2aUmv33j3cDj"
      },
      "source": [
        "# Modelling"
      ]
    },
    {
      "cell_type": "markdown",
      "metadata": {
        "id": "PvAVnGsFKiiK"
      },
      "source": [
        "Split Data 75% dan 25%"
      ]
    },
    {
      "cell_type": "code",
      "execution_count": null,
      "metadata": {
        "colab": {
          "base_uri": "https://localhost:8080/"
        },
        "id": "Omvz_mi83Yiv",
        "outputId": "44e4ee90-8845-4dfe-9a40-ad789dfbc604"
      },
      "outputs": [
        {
          "name": "stdout",
          "output_type": "stream",
          "text": [
            "Terdapat 1626 baris training set, dan 522 baris test set\n"
          ]
        }
      ],
      "source": [
        "train_df, test_df = df.randomSplit([.75, .25], seed=65)\n",
        "print(f\"\"\"Terdapat {train_df.count()} baris training set, dan {test_df.count()} baris test set\"\"\")"
      ]
    },
    {
      "cell_type": "markdown",
      "metadata": {
        "id": "oJmo4OXz4FDY"
      },
      "source": [
        "Buatlah fungsi untuk membuat Transformer Standardization <br>\n",
        "Buatlah fungsi untuk membuat Transformer PCA dengan jumlah komponen principal yang direduksi berjumlah 10! <br>\n",
        "Buatlah fungsi untuk membuat estimator Random Forest Classifier dengan sisa 10 fitur pada nomor 5.c! <br>\n"
      ]
    },
    {
      "cell_type": "code",
      "execution_count": null,
      "metadata": {
        "id": "XqXPmgXe8mM9"
      },
      "outputs": [],
      "source": [
        "from pyspark.ml.feature import StandardScaler, VectorAssembler, PCA\n",
        "from pyspark.ml import Pipeline\n",
        "from pyspark.ml.feature import StringIndexer\n",
        "from pyspark.ml.classification import RandomForestClassifier\n",
        "from pyspark.ml.tuning import CrossValidator, ParamGridBuilder\n",
        "from pyspark.ml.evaluation import BinaryClassificationEvaluator\n",
        "\n",
        "# Vector Assembler\n",
        "assembler = VectorAssembler(inputCols=col, outputCol = 'features')\n",
        "\n",
        "# Scaler\n",
        "scaler = StandardScaler(inputCol=\"features\", outputCol=\"scaledFeatures\", withStd=False, withMean=True)\n",
        "\n",
        "# PCA\n",
        "pca = PCA(k=10, inputCol = scaler.getOutputCol(), outputCol=\"pcaFeatures\")\n",
        "\n",
        "# Class Label to numeric\n",
        "class_indexer = StringIndexer(inputCol=\"Class\", outputCol=\"label\")\n",
        "\n",
        "# Random Forest\n",
        "rf = RandomForestClassifier(featuresCol = 'pcaFeatures', labelCol = 'label')\n"
      ]
    },
    {
      "cell_type": "code",
      "execution_count": null,
      "metadata": {
        "id": "l9wN57MQ3YcG"
      },
      "outputs": [],
      "source": [
        "# Pipeline\n",
        "pipeline = Pipeline(stages = [assembler, scaler, pca, class_indexer, rf])"
      ]
    },
    {
      "cell_type": "code",
      "execution_count": null,
      "metadata": {
        "id": "-ssvjb2GKKjy"
      },
      "outputs": [],
      "source": [
        "# Cross Validation\n",
        "grid = ParamGridBuilder().addGrid(rf.maxDepth, [5, 8]).build()\n",
        "cv = CrossValidator(estimator=pipeline, estimatorParamMaps=grid, evaluator=BinaryClassificationEvaluator(), numFolds=5)\n",
        "\n",
        "# Run cross-validation\n",
        "cv_model = cv.fit(train_df)"
      ]
    },
    {
      "cell_type": "code",
      "execution_count": null,
      "metadata": {
        "colab": {
          "base_uri": "https://localhost:8080/"
        },
        "id": "wpRzgydQGQdM",
        "outputId": "96ffb2ad-fec1-4c63-f181-b48456c2d5d0"
      },
      "outputs": [
        {
          "name": "stdout",
          "output_type": "stream",
          "text": [
            "+-----+----------+\n",
            "|label|prediction|\n",
            "+-----+----------+\n",
            "|  0.0|       0.0|\n",
            "|  0.0|       0.0|\n",
            "|  0.0|       0.0|\n",
            "|  0.0|       0.0|\n",
            "|  0.0|       0.0|\n",
            "|  0.0|       0.0|\n",
            "|  0.0|       0.0|\n",
            "|  0.0|       0.0|\n",
            "|  0.0|       0.0|\n",
            "|  0.0|       0.0|\n",
            "|  0.0|       0.0|\n",
            "|  0.0|       0.0|\n",
            "|  0.0|       0.0|\n",
            "|  0.0|       0.0|\n",
            "|  1.0|       0.0|\n",
            "|  1.0|       0.0|\n",
            "|  0.0|       0.0|\n",
            "|  0.0|       0.0|\n",
            "|  0.0|       0.0|\n",
            "|  0.0|       0.0|\n",
            "+-----+----------+\n",
            "only showing top 20 rows\n",
            "\n"
          ]
        }
      ],
      "source": [
        "prediction = cv_model.transform(test_df)\n",
        "selected = prediction.select('label', 'prediction')\n",
        "selected.show()"
      ]
    },
    {
      "cell_type": "code",
      "execution_count": null,
      "metadata": {
        "colab": {
          "base_uri": "https://localhost:8080/"
        },
        "id": "f5FWIwUmHcIx",
        "outputId": "0e51d486-7be9-4655-9761-c2e5bd07f4a8"
      },
      "outputs": [
        {
          "name": "stdout",
          "output_type": "stream",
          "text": [
            "+-------+---------+----------+----------+------------+--------+--------+-----------+------+------------+---------+-----------+-------------+-------------+-------------+-------------+--------+--------+--------+---------+---------+---------+-------+-------+-------+-----------+-----------+-----------+-----------------+--------------------+--------------------+--------------------+-----+--------------------+--------------------+----------+\n",
            "|   Area|Perimeter|Major_Axis|Minor_Axis|Eccentricity| Eqdiasq|Solidity|Convex_Area|Extent|Aspect_Ratio|Roundness|Compactness|Shapefactor_1|Shapefactor_2|Shapefactor_3|Shapefactor_4| Mean_RR| Mean_RG| Mean_RB|StdDev_RR|StdDev_RG|StdDev_RB|Skew_RR|Skew_RG|Skew_RB|Kurtosis_RR|Kurtosis_RG|Kurtosis_RB|            Class|            features|      scaledFeatures|         pcaFeatures|label|       rawPrediction|         probability|prediction|\n",
            "+-------+---------+----------+----------+------------+--------+--------+-----------+------+------------+---------+-----------+-------------+-------------+-------------+-------------+--------+--------+--------+---------+---------+---------+-------+-------+-------+-----------+-----------+-----------+-----------------+--------------------+--------------------+--------------------+-----+--------------------+--------------------+----------+\n",
            "|37130.0| 1085.461|  370.5977|  136.5552|      0.9296| 217.429|  0.8889|    41771.0|0.6703|      2.7139|    0.396|     0.5867|         0.01|       0.0037|       0.3442|       0.9342|174.9985|173.0367|  178.86|  13.6484|  14.3191|  21.0026|-0.1237|  0.087|-2.3486|     2.6614|      2.895|    11.5339|Kirmizi_Pistachio|[37130.0,1085.461...|[-42583.453874538...|[60532.0176761888...|  0.0|[19.9433737102264...|[0.99716868551132...|       0.0|\n",
            "|40680.0| 1226.045|  347.5499|  164.0527|      0.8816| 227.586|  0.8485|    47945.0|0.5347|      2.1185|   0.3401|     0.6548|       0.0085|        0.004|       0.4288|       0.9084|179.6697|168.8365|159.4092|  12.7863|  13.2459|  18.6525|-0.0038| 0.1525| 0.8894|     2.2706|     2.2578|     4.5865|Kirmizi_Pistachio|[40680.0,1226.045...|[-39033.453874538...|[53659.9019637116...|  0.0|[19.8589234812320...|[0.99294617406160...|       0.0|\n",
            "|44984.0| 1753.186|  356.9986|  195.4678|      0.8368|239.3228|   0.764|    58876.0|0.5197|      1.8264|   0.1839|     0.6704|       0.0079|       0.0043|       0.4494|       0.8208| 214.775|201.1966|182.2261|  22.7758|   23.504|  22.7093|-0.6433|-0.6449|-0.6614|     2.4011|     2.4589|     2.6062|Kirmizi_Pistachio|[44984.0,1753.186...|[-34729.453874538...|[42895.7947635412...|  0.0|[19.7348633308561...|[0.98674316654280...|       0.0|\n",
            "|48825.0| 1095.232|  369.8846|  172.9719|      0.8839|249.3309|  0.9236|    52865.0|0.6802|      2.1384|   0.5115|     0.6741|       0.0076|       0.0035|       0.4544|       0.9717|200.1141|186.9111|170.5383|  16.4704|  17.8744|  20.7701|-0.2128|-0.1973|-0.1444|     2.3221|     2.2656|      2.808|Kirmizi_Pistachio|[48825.0,1095.232...|[-30888.453874538...|[44416.8701746402...|  0.0|[19.6684759577410...|[0.98342379788705...|       0.0|\n",
            "|50909.0| 1224.295|  376.1862|  182.7449|      0.8741|254.5965|  0.9119|    55829.0|0.6996|      2.0585|   0.4268|     0.6768|       0.0074|       0.0036|        0.458|       0.9429|203.5668|198.9911|193.1708|  22.0532|  24.0621|  25.2124|-0.4444|-0.3353|-0.2056|     2.2177|     2.1388|     2.2689|Kirmizi_Pistachio|[50909.0,1224.295...|[-28804.453874538...|[40848.2914479951...|  0.0|[18.1667873992100...|[0.90833936996050...|       0.0|\n",
            "|51277.0| 1564.605|  402.5734|  184.3079|       0.889| 255.515|  0.8433|    60808.0|0.6573|      2.1842|   0.2632|     0.6347|       0.0079|       0.0036|       0.4028|       0.8799|182.3661|170.4551|162.2921|  14.4289|  14.8295|  14.7803| 0.0682| 0.1431|  0.045|     2.1544|      2.117|     2.2148|Kirmizi_Pistachio|[51277.0,1564.604...|[-28436.453874538...|[37073.5323193846...|  0.0|[19.5491145846620...|[0.97745572923310...|       0.0|\n",
            "|52622.0| 1196.175|  392.8597|  174.0256|      0.8965|258.8444|  0.9417|    55878.0|0.7535|      2.2575|   0.4622|     0.6589|       0.0075|       0.0033|       0.4341|         0.98|188.5508|181.8683|185.4809|  15.3305|  16.3001|  14.8927|-0.7356|-0.6525|-0.6564|     2.9006|     2.6997|     3.0821|Kirmizi_Pistachio|[52622.0,1196.175...|[-27091.453874538...|[39599.7654609314...|  0.0|[19.4990756347173...|[0.97495378173586...|       0.0|\n",
            "|52802.0| 1096.412|  405.7816|  193.4352|      0.8791|259.2867|  0.8312|    63527.0|0.6283|      2.0978|    0.552|      0.639|       0.0077|       0.0037|       0.4083|       0.8565|193.4905|180.4334|169.9309|  18.2945|  18.7736|  16.8256| -0.271|-0.2387|-0.2212|     2.1071|     2.1011|      2.785|Kirmizi_Pistachio|[52802.0,1096.411...|[-26911.453874538...|[34076.6255213262...|  0.0|[18.5649974804982...|[0.92824987402491...|       0.0|\n",
            "|53594.0| 1321.155|   386.377|  182.4593|      0.8815| 261.224|   0.928|    57755.0|0.7157|      2.1176|   0.3858|     0.6761|       0.0072|       0.0034|       0.4571|       0.9679|204.4965| 184.213|187.9279|  19.3605|  21.1571|  20.8951|-0.3831| 0.0963|-0.5673|     2.2679|     2.4445|     2.4308|Kirmizi_Pistachio|[53594.0,1321.155...|[-26119.453874538...|[37586.1761038633...|  0.0|[19.1706421164551...|[0.95853210582275...|       0.0|\n",
            "|53978.0| 1002.705|  398.2308|  186.0801|      0.8841|262.1582|   0.907|    59510.0|0.7322|      2.1401|   0.6747|     0.6583|       0.0074|       0.0034|       0.4334|       0.9275|204.6483|202.4549|202.5456|  24.8426|  25.9965|  24.5894| -0.411|-0.2987|-0.2372|     2.1417|     2.1042|     2.0081|Kirmizi_Pistachio|[53978.0,1002.705...|[-25735.453874538...|[36077.3360312452...|  0.0|[19.8591136072150...|[0.99295568036075...|       0.0|\n",
            "|54461.0| 1657.509|  382.4734|  212.1507|      0.8321|263.3285|  0.8491|    64138.0|0.6791|      1.8028|   0.2491|     0.6885|        0.007|       0.0039|        0.474|       0.8546|203.3101|190.4385|173.5542|  19.8062|  21.3032|  21.7522| 0.0288| 0.2289| 0.1215|      2.513|     2.7442|     3.2641|Kirmizi_Pistachio|[54461.0,1657.509...|[-25252.453874538...|[32467.3003809960...|  0.0|[18.1649080020768...|[0.90824540010384...|       0.0|\n",
            "|54509.0| 1931.414|  419.6371|  187.0887|      0.8951|263.4445|  0.8264|    65961.0|0.6536|       2.243|   0.1836|     0.6278|       0.0077|       0.0034|       0.3941|        0.884|222.7858|215.8805|208.2344|  22.1622|  24.7656|  25.3825|-1.0448|-0.8219|-0.7237|     3.4282|     2.9955|      2.713|Kirmizi_Pistachio|[54509.0,1931.413...|[-25204.453874538...|[31146.0076121503...|  0.0|[18.7603281301415...|[0.93801640650707...|       0.0|\n",
            "|54601.0| 1348.169|  421.2827|  182.4424|      0.9014|263.6667|  0.8768|    62274.0| 0.558|      2.3091|   0.3775|     0.6259|       0.0077|       0.0033|       0.3917|       0.9045|194.8486|181.1786|166.1669|   15.411|  16.1671|  18.2462|-0.2044|-0.0904| 0.1528|     2.7345|     3.1792|     3.2125|Kirmizi_Pistachio|[54601.0,1348.168...|[-25112.453874538...|[33684.3966233547...|  0.0|[19.5528599030141...|[0.97764299515070...|       0.0|\n",
            "|54674.0| 1008.414|   393.219|  199.1728|      0.8622| 263.843|  0.8852|    61767.0|0.6497|      1.9743|   0.6756|      0.671|       0.0072|       0.0036|       0.4502|       0.8888|205.2649|191.5512|187.9764|  24.3017|  26.0202|  24.1691|-0.2826|-0.2538|-0.2644|     1.9389|     1.9162|     2.1754|Kirmizi_Pistachio|[54674.0,1008.414...|[-25039.453874538...|[33991.8220439358...|  0.0|[19.9498113188512...|[0.99749056594256...|       0.0|\n",
            "|55000.0| 1795.685|   336.944|  259.6657|      0.6373|264.6284|  0.8075|    68111.0|0.6003|      1.2976|   0.2143|     0.7854|       0.0061|       0.0047|       0.6168|       0.8004|206.2987|197.0294|180.6246|  19.6285|  20.3756|  17.1664| -0.533| -0.522|-0.2299|     2.8944|     2.8201|     2.7962|  Siirt_Pistachio|[55000.0,1795.685...|[-24713.453874538...|[29281.9184402359...|  1.0|[17.4114416584798...|[0.87057208292399...|       0.0|\n",
            "|56479.0| 1767.281|  395.8196|  202.2451|      0.8596|268.1628|  0.8584|    65794.0|0.6639|      1.9571|   0.2272|     0.6775|        0.007|       0.0036|        0.459|       0.8983| 219.787|195.7419|168.2993|  20.4369|  21.7805|  19.6799|-0.5034|-0.5451|-0.8125|     2.2993|     2.3967|     3.3153|  Siirt_Pistachio|[56479.0,1767.281...|[-23234.453874538...|[29868.3335864820...|  1.0|[15.8768168270370...|[0.79384084135185...|       0.0|\n",
            "|56575.0|  962.101|  384.0984|  190.4508|      0.8684|268.3906|  0.9783|    57831.0|0.7564|      2.0168|   0.7681|     0.6988|       0.0068|       0.0034|       0.4883|       0.9847|218.8864|207.0299|192.4502|  22.4225|   22.892|  23.2635|-0.7097|-0.5895|-0.4954|     2.6041|     2.4454|     2.6797|Kirmizi_Pistachio|[56575.0,962.1010...|[-23138.453874538...|[35421.3514924918...|  0.0|[16.4571567309128...|[0.82285783654564...|       0.0|\n",
            "|57152.0|  1573.31|  383.3381|  200.1306|      0.8529|269.7558|  0.8976|    63674.0|  0.72|      1.9154|   0.2901|     0.7037|       0.0067|       0.0035|       0.4952|       0.9485|207.4348|197.4672|176.2174|  23.1193|   25.331|  28.6272| -0.341|-0.1266| 0.3556|     2.1048|     2.0923|       2.29|Kirmizi_Pistachio|[57152.0,1573.310...|[-22561.453874538...|[30887.7710790057...|  0.0|[18.9479780849545...|[0.94739890424772...|       0.0|\n",
            "|57245.0| 1343.956|  393.1306|   195.995|      0.8669|269.9752|  0.9151|    62559.0|0.6706|      2.0058|   0.3983|     0.6867|       0.0069|       0.0034|       0.4716|       0.9459|205.7735|192.5865|183.8518|   18.862|  21.8153|  24.4637| 0.2917| 0.4579| 0.7693|     3.6176|     3.8228|     4.4175|Kirmizi_Pistachio|[57245.0,1343.956...|[-22468.453874538...|[31609.4386653498...|  0.0|[19.0681022654781...|[0.95340511327390...|       0.0|\n",
            "|57747.0| 1838.963|  367.8483|  213.3232|      0.8147|271.1563|  0.8755|    65958.0|0.6961|      1.7244|   0.2146|     0.7371|       0.0064|       0.0037|       0.5434|        0.937|201.8669|185.1518|162.3158|  21.4985|  22.5774|  18.3269|-0.3782|-0.3646|-0.5697|     1.8624|     1.8435|     2.7606|Kirmizi_Pistachio|[57747.0,1838.963...|[-21966.453874538...|[28853.6594352005...|  0.0|[18.8060049852284...|[0.94030024926142...|       0.0|\n",
            "+-------+---------+----------+----------+------------+--------+--------+-----------+------+------------+---------+-----------+-------------+-------------+-------------+-------------+--------+--------+--------+---------+---------+---------+-------+-------+-------+-----------+-----------+-----------+-----------------+--------------------+--------------------+--------------------+-----+--------------------+--------------------+----------+\n",
            "only showing top 20 rows\n",
            "\n"
          ]
        }
      ],
      "source": [
        "prediction.show()"
      ]
    },
    {
      "cell_type": "code",
      "execution_count": null,
      "metadata": {
        "colab": {
          "base_uri": "https://localhost:8080/"
        },
        "id": "nifSz9zWG-tG",
        "outputId": "f14b947f-a069-4d91-905a-c441e7867ae1"
      },
      "outputs": [
        {
          "name": "stderr",
          "output_type": "stream",
          "text": [
            "/usr/local/lib/python3.8/dist-packages/pyspark/sql/context.py:157: FutureWarning: Deprecated in 3.0.0. Use SparkSession.builder.getOrCreate() instead.\n",
            "  warnings.warn(\n"
          ]
        }
      ],
      "source": [
        "from pyspark.mllib.evaluation import MulticlassMetrics\n",
        "\n",
        "prediction = cv_model.transform(test_df)\n",
        "predictionAndLabels = prediction.select(\"prediction\",\"label\").rdd\n",
        "# Instantiate metrics objects\n",
        "multi_metrics = MulticlassMetrics(predictionAndLabels)\n",
        "precision_score = multi_metrics.weightedPrecision\n",
        "recall_score = multi_metrics.weightedRecall\n",
        "f1_score = multi_metrics.weightedFMeasure()\n",
        "accuracy = multi_metrics.accuracy"
      ]
    },
    {
      "cell_type": "code",
      "execution_count": null,
      "metadata": {
        "colab": {
          "base_uri": "https://localhost:8080/"
        },
        "id": "Zv-PmwGUITLZ",
        "outputId": "0564f7e2-f96b-4925-cab5-7e80bc504166"
      },
      "outputs": [
        {
          "name": "stdout",
          "output_type": "stream",
          "text": [
            "Precision Score : 0.8664774391167033\n",
            "Recall Score : 0.8659003831417624\n",
            "F1 Score : 0.8660737878187343\n",
            "Accuracy : 0.8659003831417624\n"
          ]
        }
      ],
      "source": [
        "print(f'Precision Score : {precision_score}')\n",
        "print(f'Recall Score : {recall_score}')\n",
        "print(f'F1 Score : {f1_score}')\n",
        "print(f'Accuracy : {accuracy}')"
      ]
    },
    {
      "cell_type": "code",
      "execution_count": null,
      "metadata": {
        "colab": {
          "base_uri": "https://localhost:8080/"
        },
        "id": "YqaalhAzIWHy",
        "outputId": "fab3356c-1728-4f86-f877-22b80557cbdb"
      },
      "outputs": [
        {
          "data": {
            "text/plain": [
              "0.8659003831417624"
            ]
          },
          "execution_count": 140,
          "metadata": {},
          "output_type": "execute_result"
        }
      ],
      "source": [
        "recall_score"
      ]
    },
    {
      "cell_type": "code",
      "execution_count": null,
      "metadata": {
        "colab": {
          "base_uri": "https://localhost:8080/"
        },
        "id": "Wr0Pjj97IZnj",
        "outputId": "73b0db8a-97ac-4651-83cc-ce6c52641174"
      },
      "outputs": [
        {
          "data": {
            "text/plain": [
              "0.8660737878187343"
            ]
          },
          "execution_count": 143,
          "metadata": {},
          "output_type": "execute_result"
        }
      ],
      "source": [
        "\n",
        "f1_score"
      ]
    },
    {
      "cell_type": "code",
      "execution_count": null,
      "metadata": {
        "colab": {
          "base_uri": "https://localhost:8080/"
        },
        "id": "SP1LqjrmIwiQ",
        "outputId": "f1f42cb8-af50-447d-c6fc-c1970a3165ca"
      },
      "outputs": [
        {
          "data": {
            "text/plain": [
              "0.8659003831417624"
            ]
          },
          "execution_count": 144,
          "metadata": {},
          "output_type": "execute_result"
        }
      ],
      "source": [
        "\n",
        "accuracy"
      ]
    }
  ],
  "metadata": {
    "colab": {
      "collapsed_sections": [
        "hi85BlDmyiOK",
        "hjJ4Hn-Izf5M",
        "2aUmv33j3cDj"
      ],
      "provenance": []
    },
    "kernelspec": {
      "display_name": "Python 3",
      "name": "python3"
    },
    "language_info": {
      "name": "python"
    }
  },
  "nbformat": 4,
  "nbformat_minor": 0
}
